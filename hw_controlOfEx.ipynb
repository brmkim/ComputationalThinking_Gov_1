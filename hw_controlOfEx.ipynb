{
 "cells": [
  {
   "cell_type": "code",
   "execution_count": 191,
   "metadata": {},
   "outputs": [
    {
     "data": {
      "text/plain": [
       "[(False, 'Bach'),\n",
       " (True, 'Bach'),\n",
       " (False, 'Master'),\n",
       " (False, 'PhD'),\n",
       " (False, 'Bach'),\n",
       " (True, 'Master')]"
      ]
     },
     "execution_count": 191,
     "metadata": {},
     "output_type": "execute_result"
    }
   ],
   "source": [
    "# Homework\n",
    "#    Implement a for loop to get the count of men that have a Bach degree in the data frame. I recommend the use of zip (somwehere)\n",
    "\n",
    "maleBachList = []\n",
    "maleBachList = [(female, degree) for female, degree in zip(people.woman, people.education)]\n",
    "\n",
    "count = 0\n",
    "for item in maleBachList:\n",
    "    if (item[0] == False) & (item[1] == 'Bach'):\n",
    "        count +=1\n",
    "\n",
    "count  # output: 2"
   ]
  },
  {
   "cell_type": "code",
   "execution_count": 195,
   "metadata": {},
   "outputs": [
    {
     "data": {
      "text/plain": [
       "4"
      ]
     },
     "execution_count": 195,
     "metadata": {},
     "output_type": "execute_result"
    }
   ],
   "source": [
    "#    Implement a for loop to get the count of people whose current age is an even number.\n",
    "\n",
    "count = 0;\n",
    "for num in people.ages:\n",
    "    if (num %2 == 0):\n",
    "        count += 1\n",
    "\n",
    "count  # Output: 4\n",
    "        \n",
    "    \n"
   ]
  }
 ],
 "metadata": {
  "kernelspec": {
   "display_name": "Python 3",
   "language": "python",
   "name": "python3"
  },
  "language_info": {
   "codemirror_mode": {
    "name": "ipython",
    "version": 3
   },
   "file_extension": ".py",
   "mimetype": "text/x-python",
   "name": "python",
   "nbconvert_exporter": "python",
   "pygments_lexer": "ipython3",
   "version": "3.7.1"
  }
 },
 "nbformat": 4,
 "nbformat_minor": 2
}
